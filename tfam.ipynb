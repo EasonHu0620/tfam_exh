{
  "nbformat": 4,
  "nbformat_minor": 0,
  "metadata": {
    "colab": {
      "provenance": [],
      "authorship_tag": "ABX9TyMbMVjntxg8FXUUAwbFccWL",
      "include_colab_link": true
    },
    "kernelspec": {
      "name": "python3",
      "display_name": "Python 3"
    },
    "language_info": {
      "name": "python"
    }
  },
  "cells": [
    {
      "cell_type": "markdown",
      "metadata": {
        "id": "view-in-github",
        "colab_type": "text"
      },
      "source": [
        "<a href=\"https://colab.research.google.com/github/EasonHu0620/tfam_exh/blob/main/tfam.ipynb\" target=\"_parent\"><img src=\"https://colab.research.google.com/assets/colab-badge.svg\" alt=\"Open In Colab\"/></a>"
      ]
    },
    {
      "cell_type": "code",
      "source": [
        "import re\n",
        "import csv\n",
        "import time\n",
        "from urllib.parse import urljoin\n",
        "\n",
        "import requests as req\n",
        "from bs4 import BeautifulSoup as bs\n",
        "\n",
        "from selenium import webdriver\n",
        "from selenium.webdriver.common.by import By\n",
        "from selenium.webdriver.support.ui import WebDriverWait\n",
        "from selenium.webdriver.support import expected_conditions as EC\n",
        "\n",
        "\n",
        "BASE = \"https://www.tfam.museum/\"\n",
        "HOME = \"https://www.tfam.museum/index.aspx?ddlLang=zh-tw\"\n",
        "EXH  = \"https://www.tfam.museum/Exhibition/Exhibition.aspx?ddlLang=zh-tw\"\n",
        "CONTAINER_XPATH = '/html/body/form/div[3]/div[3]/div/div[2]'\n",
        "\n",
        "\n",
        "# ---------- 1) 首頁：館別/地址 ----------\n",
        "def fetch_basic_info():\n",
        "    r = req.get(HOME, timeout=20)\n",
        "    r.raise_for_status()\n",
        "    html = bs(r.text, \"html.parser\")\n",
        "\n",
        "    tfam = html.find(\"div\", class_=\"footer-info-container\")\n",
        "    tfam_text = tfam.get_text(\" \", strip=True)\n",
        "\n",
        "    info = {}\n",
        "    info[\"館別\"] = re.search(r\"臺北市立美術館\", tfam_text).group()\n",
        "\n",
        "    info[\"地址\"] = re.search(r\"104227.+?號\", tfam_text).group()\n",
        "\n",
        "    # 開放時間\n",
        "    time_blocks = html.find(\"div\", class_=\"table-cell\")\n",
        "    openday = html.find_all(\"span\", style=\"box-sizing: border-box; margin: 0px 3rem 0px 0px; padding: 0px; border: 0px; outline: 0px; display: inline-block; vertical-align: text-bottom; width: 8rem;\")\n",
        "    openday_text1 = openday[0].get_text()\n",
        "    openday_text2 = openday[1].get_text()\n",
        "    opentime1 = openday[0].find_next_sibling().get_text()\n",
        "    opentime2 = openday[1].find_next_sibling().get_text()\n",
        "    open_text = openday_text1 + opentime1 +\",\"+ openday_text2 + opentime2\n",
        "    info[\"開館時間\"] = open_text\n",
        "\n",
        "    # 休館日\n",
        "    offtime = html.find(\"span\", style=\"font-size: 1.6rem; margin-right: 3rem; display: inline-block; vertical-align: text-bottom; width: 8rem;\")\n",
        "    offtime_text = offtime.get_text()\n",
        "    info[\"休館日\"] = offtime_text\n",
        "    return info\n",
        "\n",
        "\n",
        "# ---------- 2) Selenium：展覽清單 ----------\n",
        "def get_driver(headless=True):\n",
        "    from selenium.webdriver.chrome.options import Options\n",
        "    opts = Options()\n",
        "    if headless:\n",
        "      opts.add_argument(\"--headless=new\") #讓瀏覽器在背景執行\n",
        "    opts.add_argument(\"--window-size=1400,1000\") #設定瀏覽器啟動時的視窗大小\n",
        "    opts.add_argument(\"--lang=zh-TW\") #設定瀏覽器的語言首選為繁體中文\n",
        "    opts.add_argument(\"--disable-gpu\") #headless 模式穩定\n",
        "    opts.add_argument(\"--no-sandbox\") #避免在某些環境無法啟動的錯誤\n",
        "    return webdriver.Chrome(options=opts)\n",
        "\n",
        "def scrape_exhibitions():\n",
        "    driver = get_driver(headless=True)\n",
        "    rows = []\n",
        "    try:\n",
        "        driver.get(EXH)\n",
        "        wait = WebDriverWait(driver, 20)\n",
        "\n",
        "        # 等待我要的XPATH出現\n",
        "        container = wait.until(EC.presence_of_element_located((By.XPATH, CONTAINER_XPATH)))\n",
        "        items = container.find_elements(By.XPATH, \"./div\")\n",
        "\n",
        "\n",
        "        for it in items:\n",
        "            # 照片\n",
        "            img_src = \"\"\n",
        "            try:\n",
        "                img = it.find_element(By.XPATH, \"./div[1]/img\")\n",
        "                img_src = img.get_attribute(\"src\") or \"\"\n",
        "                img_src = urljoin(BASE, img_src)\n",
        "            except Exception:\n",
        "                pass\n",
        "\n",
        "            # 展覽標題與連結\n",
        "            title= \"\"\n",
        "            try:\n",
        "                a = it.find_element(By.XPATH, \"./div[2]/h3/a\")\n",
        "                title = (a.text or \"\").strip()\n",
        "            except Exception:\n",
        "                pass\n",
        "\n",
        "            # 展覽時間\n",
        "            ex_time = \"\"\n",
        "            try:\n",
        "                ex_time = it.find_element(By.XPATH, \"./div[2]/p[1]\").text.strip()\n",
        "            except Exception:\n",
        "                pass\n",
        "\n",
        "            # 展覽地點\n",
        "            ex_place = \"\"\n",
        "            try:\n",
        "                ex_place = it.find_element(By.XPATH, \"./div[2]/p[2]\").text.strip()\n",
        "            except Exception:\n",
        "                pass\n",
        "\n",
        "            # 展覽連結\n",
        "            ex_link = \"\"\n",
        "            try:\n",
        "                link = it.find_element(By.XPATH, \"./div[2]/div\")\n",
        "                link_num = link.get_attribute(\"id\")[-3:] or \"\"\n",
        "                ex_link = f\"{BASE}Exhibition/Exhibition_Special.aspx?ddlLang=zh-tw&id={link_num}\"\n",
        "            except Exception:\n",
        "                pass\n",
        "\n",
        "            if any([title, ex_time, ex_place, img_src, ex_link]):\n",
        "                rows.append({\n",
        "                    \"照片\": img_src,\n",
        "                    \"展覽\": title,\n",
        "                    \"展覽時間\": ex_time,\n",
        "                    \"展覽地點\": ex_place,\n",
        "                    \"展覽連結\": ex_link,\n",
        "                })\n",
        "        return rows\n",
        "    finally:\n",
        "        driver.quit()\n",
        "\n",
        "\n",
        "# ---------- 3) CSV ----------\n",
        "def save_csv(path, rows):\n",
        "    if not rows:\n",
        "        print(f\"沒有資料可寫入 CSV：{path}\")\n",
        "        return\n",
        "    keys = list(rows[0].keys())\n",
        "    with open(path, \"w\", newline=\"\", encoding=\"utf-8-sig\") as f:\n",
        "        writer = csv.DictWriter(f, fieldnames=keys)\n",
        "        writer.writeheader()\n",
        "        writer.writerows(rows)\n",
        "    print(f\"CSV 已輸出：{path}（{len(rows)} 筆）\")\n",
        "\n",
        "\n",
        "if __name__ == \"__main__\":\n",
        "    # A) 美術館基本資料 → 單列 CSV\n",
        "    info = fetch_basic_info()\n",
        "    print(info)\n",
        "    save_csv(\"tfam_museum_info.csv\", [info])   # 注意用 [info] 包成 list\n",
        "\n",
        "    # B) 展覽資訊 + 館別欄位 → 多列 CSV\n",
        "    data = scrape_exhibitions()\n",
        "    museum_name = info.get(\"館別\", \"臺北市立美術館\")\n",
        "    for r in data:\n",
        "        r[\"館別\"] = museum_name\n",
        "    for r in data:\n",
        "        print(r)\n",
        "    save_csv(\"tfam_exh.csv\", data)"
      ],
      "metadata": {
        "colab": {
          "base_uri": "https://localhost:8080/"
        },
        "id": "u31y6YvFOF3t",
        "outputId": "0f382226-f0aa-4fb1-a556-a857e6117a05"
      },
      "execution_count": 2,
      "outputs": [
        {
          "output_type": "stream",
          "name": "stdout",
          "text": [
            "{'館別': '臺北市立美術館', '地址': '104227臺北市中山區中山北路三段181號', '開館時間': '週二至週日9:30-17:30,週六9:30-20:30', '休館日': '週一'}\n",
            "CSV 已輸出：tfam_museum_info.csv（1 筆）\n",
            "{'照片': 'https://www.tfam.museum/File/Exhibition/Main/794/2025072118142524950161.jpg', '展覽': '不發音字母—翻閱165頁厚度', '展覽時間': '2025/08/09 - 2025/11/16', '展覽地點': '三樓3A', '展覽連結': 'https://www.tfam.museum/Exhibition/Exhibition_Special.aspx?ddlLang=zh-tw&id=794', '館別': '臺北市立美術館'}\n",
            "{'照片': 'https://www.tfam.museum/File/Exhibition/Main/798/2025071416094935860567.png', '展覽': '力求失真的嗓音', '展覽時間': '2025/08/09 - 2025/11/16', '展覽地點': '三樓3A', '展覽連結': 'https://www.tfam.museum/Exhibition/Exhibition_Special.aspx?ddlLang=zh-tw&id=798', '館別': '臺北市立美術館'}\n",
            "{'照片': 'https://www.tfam.museum/File/Exhibition/Main/796/2025071010382802670547.jpg', '展覽': '未完成之作：彭弘智個展', '展覽時間': '2025/08/09 - 2025/11/16', '展覽地點': '三樓3B', '展覽連結': 'https://www.tfam.museum/Exhibition/Exhibition_Special.aspx?ddlLang=zh-tw&id=796', '館別': '臺北市立美術館'}\n",
            "{'照片': 'https://www.tfam.museum/File/Exhibition/Main/795/2025072209211901420701.jpg', '展覽': '雙鉤廓填：柯良志個展', '展覽時間': '2025/08/09 - 2025/11/16', '展覽地點': '三樓3B', '展覽連結': 'https://www.tfam.museum/Exhibition/Exhibition_Special.aspx?ddlLang=zh-tw&id=795', '館別': '臺北市立美術館'}\n",
            "{'照片': 'https://www.tfam.museum/File/Exhibition/Main/800/2025090416212129180397.jpg', '展覽': '北美館開放網絡計畫 TFAM Net.Open│消失的反動', '展覽時間': '2025/09/19 - 2026/08/31', '展覽地點': '', '展覽連結': 'https://www.tfam.museum/Exhibition/Exhibition_Special.aspx?ddlLang=zh-tw&id=800', '館別': '臺北市立美術館'}\n",
            "{'照片': 'https://www.tfam.museum/File/Exhibition/Main/784/2025011409171161250191.jpg', '展覽': '我們總是需要為世界創造出更新的故事', '展覽時間': '2025/01/18 - 2025/12/21', '展覽地點': '南進門廊道', '展覽連結': 'https://www.tfam.museum/Exhibition/Exhibition_Special.aspx?ddlLang=zh-tw&id=784', '館別': '臺北市立美術館'}\n",
            "{'照片': 'https://www.tfam.museum/File/Exhibition/Main/799/2025081821451320410292.jpg', '展覽': '痕跡悄悄話', '展覽時間': '2025/09/27 - 2026/02/22', '展覽地點': '兒童藝術教育中心', '展覽連結': 'https://www.tfam.museum/Exhibition/Exhibition_Special.aspx?ddlLang=zh-tw&id=799', '館別': '臺北市立美術館'}\n",
            "CSV 已輸出：tfam_exh.csv（7 筆）\n"
          ]
        }
      ]
    },
    {
      "cell_type": "code",
      "execution_count": null,
      "metadata": {
        "id": "zS6Q5uvdvSsM",
        "colab": {
          "base_uri": "https://localhost:8080/"
        },
        "outputId": "55c3672e-8a85-4c2f-9273-95fb44950d53"
      },
      "outputs": [
        {
          "output_type": "stream",
          "name": "stdout",
          "text": [
            "{'館別': '臺北市立美術館', '地址': '104227臺北市中山區中山北路三段181號'}\n"
          ]
        }
      ],
      "source": [
        "import os\n",
        "import re\n",
        "import csv\n",
        "import requests as req\n",
        "from bs4 import BeautifulSoup as bs\n",
        "\n",
        "url = \"https://www.tfam.museum/index.aspx?ddlLang=zh-tw\"\n",
        "\n",
        "r = req.get(url)\n",
        "r.raise_for_status()\n",
        "html = bs(r.text, \"html.parser\")\n",
        "\n",
        "tfam = html.find(\"div\", class_=\"footer-info-container\")\n",
        "tfam_text = tfam.get_text(\"\\n\", strip=True)\n",
        "info = {}\n",
        "info[\"館別\"]= re.search(r\"臺北市立美術館\", tfam_text).group()\n",
        "info[\"地址\"] = re.search(r\"104227.+?號\", tfam_text).group()\n",
        "\n",
        "print(info)\n"
      ]
    },
    {
      "cell_type": "code",
      "source": [
        "import os\n",
        "import re\n",
        "import csv\n",
        "import requests as req\n",
        "from bs4 import BeautifulSoup as bs\n",
        "\n",
        "url = \"https://www.tfam.museum/index.aspx?ddlLang=zh-tw\"\n",
        "\n",
        "r = req.get(url)\n",
        "r.raise_for_status()\n",
        "html = bs(r.text, \"html.parser\")\n",
        "time_blocks = html.find(\"div\", class_=\"table-cell\")\n",
        "openday = html.find_all(\"span\", style=\"box-sizing: border-box; margin: 0px 3rem 0px 0px; padding: 0px; border: 0px; outline: 0px; display: inline-block; vertical-align: text-bottom; width: 8rem;\")\n",
        "openday_text1 = openday[0].get_text()\n",
        "openday_text2 = openday[1].get_text()\n",
        "opentime1 = openday[0].find_next_sibling().get_text()\n",
        "opentime2 = openday[1].find_next_sibling().get_text()\n",
        "open_text = openday_text1 + opentime1 +\",\"+ openday_text2 + opentime2\n",
        "\n",
        "\n",
        "print(open_text)\n",
        "\n",
        "offtime = html.find(\"span\", style=\"font-size: 1.6rem; margin-right: 3rem; display: inline-block; vertical-align: text-bottom; width: 8rem;\")\n",
        "offtime_text = offtime.get_text()\n",
        "\n",
        "print(offtime_text)\n",
        "\n",
        "#print(time_blocks)"
      ],
      "metadata": {
        "colab": {
          "base_uri": "https://localhost:8080/"
        },
        "id": "ib84bghQ1jOg",
        "outputId": "a0eac332-e8c7-48a8-ecd0-6a61dac0a16a"
      },
      "execution_count": null,
      "outputs": [
        {
          "output_type": "stream",
          "name": "stdout",
          "text": [
            "週二至週日9:30-17:30,週六9:30-20:30\n",
            "週一\n"
          ]
        }
      ]
    },
    {
      "cell_type": "code",
      "source": [
        "import os\n",
        "import re\n",
        "import csv\n",
        "import requests as req\n",
        "from bs4 import BeautifulSoup as bs\n",
        "headers = {\n",
        "    \"User-Agent\": \"Mozilla/5.0\",\n",
        "    \"Referer\": \"https://www.tfam.museum/Exhibition/Exhibition.aspx?ddlLang=zh-tw\",\n",
        "    \"X-Requested-With\": \"XMLHttpRequest\",\n",
        "    \"Content-Type\": \"application/x-www-form-urlencoded; charset=UTF-8\",\n",
        "    \"Accept\": \"text/html, application/json;q=0.9, */*;q=0.8\",\n",
        "}\n",
        "\n",
        "# ↓ 這些鍵名請用 DevTools → Form Data 看到的為準\n",
        "form = {\n",
        "    \"Method\": \"GetList\",   # 例：GetList / GetExList / Search …\n",
        "    \"Status\": \"current\",\n",
        "    \"Page\": \"1\",\n",
        "    \"PageSize\": \"12\"\n",
        "}\n",
        "\n",
        "exh_url = \"https://www.tfam.museum//Exhibition/Exhibition.aspx\"\n",
        "Request_URL = \"https://www.tfam.museum/ashx/Exhibition.ashx?ddlLang=zh-tw\"\n",
        "session = req.Session()\n",
        "resp = session.post(Request_URL, headers=headers, data=form, timeout=20)\n",
        "\n",
        "html = resp.text,\n",
        "#current_exh = html.find_all(\"div\" , class_=\"row Exhibition_list\")\n",
        "\n",
        "print(html)"
      ],
      "metadata": {
        "colab": {
          "base_uri": "https://localhost:8080/"
        },
        "id": "eUjV43yE78DB",
        "outputId": "b344b5c1-4145-4c22-8310-7b8c0933fd37"
      },
      "execution_count": null,
      "outputs": [
        {
          "output_type": "stream",
          "name": "stdout",
          "text": [
            "('<!DOCTYPE html>\\r\\n<html lang=\"zh-TW\" xmlns=\"http://www.w3.org/1999/xhtml\">\\r\\n<head runat=\"server\">\\r\\n    <meta http-equiv=\"Content-Type\" content=\"text/html; charset=utf-8\" />\\r\\n    <title>æ\\xad¤ç¶²é\\xa0\\x81ä¸\\x8då\\xad\\x98å\\x9c¨</title>\\r\\n</head>\\r\\n<body>\\r\\n    <form id=\"form1\" runat=\"server\">\\r\\n        <div>\\r\\n            <h1>æ\\xad¤ç¶²é\\xa0\\x81ä¸\\x8då\\xad\\x98å\\x9c¨ï¼\\x8cè«\\x8bæ\\x8c\\x89æ\\xad¤<a href=\"https://www.tfam.museum/\">å\\x9b\\x9eé¦\\x96é\\xa0\\x81</a></h1>\\r\\n        </div>\\r\\n    </form>\\r\\n</body>\\r\\n</html>',)\n"
          ]
        }
      ]
    }
  ]
}